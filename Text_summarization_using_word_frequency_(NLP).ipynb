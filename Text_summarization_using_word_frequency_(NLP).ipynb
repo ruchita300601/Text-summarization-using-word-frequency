{
  "nbformat": 4,
  "nbformat_minor": 0,
  "metadata": {
    "colab": {
      "provenance": []
    },
    "kernelspec": {
      "name": "python3",
      "display_name": "Python 3"
    },
    "language_info": {
      "name": "python"
    }
  },
  "cells": [
    {
      "cell_type": "markdown",
      "source": [
        "Libraries"
      ],
      "metadata": {
        "id": "JwuZ3JThV4rx"
      }
    },
    {
      "cell_type": "code",
      "source": [
        "import re\n",
        "import nltk"
      ],
      "metadata": {
        "id": "nShZqXIqC15P"
      },
      "execution_count": 16,
      "outputs": []
    },
    {
      "cell_type": "code",
      "source": [
        "article_text=\"The coronavirus was responsible for the Covid-19 pandemic. It is an infectious disease that has affected millions of people’s lives. The pandemic has impacted people all across the world in diverse ways. It was first discovered in Wuhan, China, in 2019. However, the World Health Organization (WHO) proclaimed it a pandemic in March 2020, claiming that it has spread throughout the globe like wildfire. The pandemic has claimed the lives of millions of people. The virus had negative consequences for those who were infected, including the development of a variety of chronic disorders. The main symptoms of this disease were loss of smell and taste, fatigue, pale skin, sneezing, coughing, oxygen deficiency, etc. Because Covid-19 was an infectious disease, all those who were infected were instructed to segregate themselves from those who were not. The folks who were affected were separated from their families and locked in a room. The government has prioritised people’s safety. The frontline personnel were like superheroes, working tirelessly to ensure the public’s safety. For the sake of their patients’ and close relatives’ safety, many doctors had to stay away from their families and babies. The government had also taken significant steps and implemented different protocols for the protection of people.\""
      ],
      "metadata": {
        "id": "TsLojwKEVZIc"
      },
      "execution_count": 15,
      "outputs": []
    },
    {
      "cell_type": "markdown",
      "source": [
        "Data Preprocessing"
      ],
      "metadata": {
        "id": "0Wq2SYnOV80N"
      }
    },
    {
      "cell_type": "code",
      "source": [
        "article_text = article_text.lower()\n",
        "article_text"
      ],
      "metadata": {
        "colab": {
          "base_uri": "https://localhost:8080/",
          "height": 139
        },
        "id": "NIUIN3JiUD9L",
        "outputId": "c6d36456-acdb-494a-a050-f1a4bc99f6e1"
      },
      "execution_count": 17,
      "outputs": [
        {
          "output_type": "execute_result",
          "data": {
            "text/plain": [
              "'the coronavirus was responsible for the covid-19 pandemic. it is an infectious disease that has affected millions of people’s lives. the pandemic has impacted people all across the world in diverse ways. it was first discovered in wuhan, china, in 2019. however, the world health organization (who) proclaimed it a pandemic in march 2020, claiming that it has spread throughout the globe like wildfire. the pandemic has claimed the lives of millions of people. the virus had negative consequences for those who were infected, including the development of a variety of chronic disorders. the main symptoms of this disease were loss of smell and taste, fatigue, pale skin, sneezing, coughing, oxygen deficiency, etc. because covid-19 was an infectious disease, all those who were infected were instructed to segregate themselves from those who were not. the folks who were affected were separated from their families and locked in a room. the government has prioritised people’s safety. the frontline personnel were like superheroes, working tirelessly to ensure the public’s safety. for the sake of their patients’ and close relatives’ safety, many doctors had to stay away from their families and babies. the government had also taken significant steps and implemented different protocols for the protection of people.'"
            ],
            "application/vnd.google.colaboratory.intrinsic+json": {
              "type": "string"
            }
          },
          "metadata": {},
          "execution_count": 17
        }
      ]
    },
    {
      "cell_type": "code",
      "source": [
        "# remove spaces, punctuations and numbers\n",
        "clean_text = re.sub('[^a-zA-Z]', ' ', article_text)\n",
        "clean_text = re.sub('\\s+', ' ', clean_text)\n",
        "clean_text"
      ],
      "metadata": {
        "colab": {
          "base_uri": "https://localhost:8080/",
          "height": 139
        },
        "id": "Bsr8nEDUUG0x",
        "outputId": "a5bf4ad5-7fe0-41d5-ad2c-22e2c3b309d0"
      },
      "execution_count": 18,
      "outputs": [
        {
          "output_type": "execute_result",
          "data": {
            "text/plain": [
              "'the coronavirus was responsible for the covid pandemic it is an infectious disease that has affected millions of people s lives the pandemic has impacted people all across the world in diverse ways it was first discovered in wuhan china in however the world health organization who proclaimed it a pandemic in march claiming that it has spread throughout the globe like wildfire the pandemic has claimed the lives of millions of people the virus had negative consequences for those who were infected including the development of a variety of chronic disorders the main symptoms of this disease were loss of smell and taste fatigue pale skin sneezing coughing oxygen deficiency etc because covid was an infectious disease all those who were infected were instructed to segregate themselves from those who were not the folks who were affected were separated from their families and locked in a room the government has prioritised people s safety the frontline personnel were like superheroes working tirelessly to ensure the public s safety for the sake of their patients and close relatives safety many doctors had to stay away from their families and babies the government had also taken significant steps and implemented different protocols for the protection of people '"
            ],
            "application/vnd.google.colaboratory.intrinsic+json": {
              "type": "string"
            }
          },
          "metadata": {},
          "execution_count": 18
        }
      ]
    },
    {
      "cell_type": "code",
      "source": [
        "import nltk\n",
        "nltk.download('punkt')\n",
        "# split into sentence list\n",
        "sentence_list = nltk.sent_tokenize(article_text)\n",
        "sentence_list"
      ],
      "metadata": {
        "colab": {
          "base_uri": "https://localhost:8080/"
        },
        "id": "z8mqszvAUV3V",
        "outputId": "eb2cd347-9e58-41b8-e5c7-3dc6d152f4dc"
      },
      "execution_count": 20,
      "outputs": [
        {
          "output_type": "stream",
          "name": "stderr",
          "text": [
            "[nltk_data] Downloading package punkt to /root/nltk_data...\n",
            "[nltk_data]   Package punkt is already up-to-date!\n"
          ]
        },
        {
          "output_type": "execute_result",
          "data": {
            "text/plain": [
              "['the coronavirus was responsible for the covid-19 pandemic.',\n",
              " 'it is an infectious disease that has affected millions of people’s lives.',\n",
              " 'the pandemic has impacted people all across the world in diverse ways.',\n",
              " 'it was first discovered in wuhan, china, in 2019. however, the world health organization (who) proclaimed it a pandemic in march 2020, claiming that it has spread throughout the globe like wildfire.',\n",
              " 'the pandemic has claimed the lives of millions of people.',\n",
              " 'the virus had negative consequences for those who were infected, including the development of a variety of chronic disorders.',\n",
              " 'the main symptoms of this disease were loss of smell and taste, fatigue, pale skin, sneezing, coughing, oxygen deficiency, etc.',\n",
              " 'because covid-19 was an infectious disease, all those who were infected were instructed to segregate themselves from those who were not.',\n",
              " 'the folks who were affected were separated from their families and locked in a room.',\n",
              " 'the government has prioritised people’s safety.',\n",
              " 'the frontline personnel were like superheroes, working tirelessly to ensure the public’s safety.',\n",
              " 'for the sake of their patients’ and close relatives’ safety, many doctors had to stay away from their families and babies.',\n",
              " 'the government had also taken significant steps and implemented different protocols for the protection of people.']"
            ]
          },
          "metadata": {},
          "execution_count": 20
        }
      ]
    },
    {
      "cell_type": "code",
      "source": [
        "import nltk\n",
        "nltk.download('stopwords')"
      ],
      "metadata": {
        "colab": {
          "base_uri": "https://localhost:8080/"
        },
        "id": "6VClATmgUWJF",
        "outputId": "eb74fecb-593f-49da-c420-eb1cbbc16a34"
      },
      "execution_count": 21,
      "outputs": [
        {
          "output_type": "stream",
          "name": "stderr",
          "text": [
            "[nltk_data] Downloading package stopwords to /root/nltk_data...\n",
            "[nltk_data]   Package stopwords is already up-to-date!\n"
          ]
        },
        {
          "output_type": "execute_result",
          "data": {
            "text/plain": [
              "True"
            ]
          },
          "metadata": {},
          "execution_count": 21
        }
      ]
    },
    {
      "cell_type": "markdown",
      "source": [
        "Word Frequencies"
      ],
      "metadata": {
        "id": "WhwPnD6rWD7z"
      }
    },
    {
      "cell_type": "code",
      "source": [
        "stopwords = nltk.corpus.stopwords.words('english')\n",
        "\n",
        "word_frequencies = {}\n",
        "for word in nltk.word_tokenize(clean_text):\n",
        "    if word not in stopwords:\n",
        "        if word not in word_frequencies:\n",
        "            word_frequencies[word] = 1\n",
        "        else:\n",
        "            word_frequencies[word] += 1"
      ],
      "metadata": {
        "id": "hDXWvpVsUrw6"
      },
      "execution_count": 22,
      "outputs": []
    },
    {
      "cell_type": "code",
      "source": [
        "maximum_frequency = max(word_frequencies.values())\n",
        "\n",
        "for word in word_frequencies:\n",
        "    word_frequencies[word] = word_frequencies[word] / maximum_frequency"
      ],
      "metadata": {
        "id": "wBg-rEG-Utlh"
      },
      "execution_count": 23,
      "outputs": []
    },
    {
      "cell_type": "markdown",
      "source": [
        "Sentence Scores"
      ],
      "metadata": {
        "id": "_vPeFIgdWH7Z"
      }
    },
    {
      "cell_type": "code",
      "source": [
        "sentence_scores = {}\n",
        "\n",
        "for sentence in sentence_list:\n",
        "    for word in nltk.word_tokenize(sentence):\n",
        "        if word in word_frequencies and len(sentence.split(' ')) < 30:\n",
        "            if sentence not in sentence_scores:\n",
        "                sentence_scores[sentence] = word_frequencies[word]\n",
        "            else:\n",
        "                sentence_scores[sentence] += word_frequencies[word]"
      ],
      "metadata": {
        "id": "__tFtJ4SUvdf"
      },
      "execution_count": 24,
      "outputs": []
    },
    {
      "cell_type": "code",
      "source": [
        "word_frequencies"
      ],
      "metadata": {
        "colab": {
          "base_uri": "https://localhost:8080/"
        },
        "id": "7vjHoy73UxN0",
        "outputId": "8ce9a4e2-4cd6-4e38-fe3a-b9aaf881d4a1"
      },
      "execution_count": 25,
      "outputs": [
        {
          "output_type": "execute_result",
          "data": {
            "text/plain": [
              "{'coronavirus': 0.2,\n",
              " 'responsible': 0.2,\n",
              " 'covid': 0.4,\n",
              " 'pandemic': 0.8,\n",
              " 'infectious': 0.4,\n",
              " 'disease': 0.6,\n",
              " 'affected': 0.4,\n",
              " 'millions': 0.4,\n",
              " 'people': 1.0,\n",
              " 'lives': 0.4,\n",
              " 'impacted': 0.2,\n",
              " 'across': 0.2,\n",
              " 'world': 0.4,\n",
              " 'diverse': 0.2,\n",
              " 'ways': 0.2,\n",
              " 'first': 0.2,\n",
              " 'discovered': 0.2,\n",
              " 'wuhan': 0.2,\n",
              " 'china': 0.2,\n",
              " 'however': 0.2,\n",
              " 'health': 0.2,\n",
              " 'organization': 0.2,\n",
              " 'proclaimed': 0.2,\n",
              " 'march': 0.2,\n",
              " 'claiming': 0.2,\n",
              " 'spread': 0.2,\n",
              " 'throughout': 0.2,\n",
              " 'globe': 0.2,\n",
              " 'like': 0.4,\n",
              " 'wildfire': 0.2,\n",
              " 'claimed': 0.2,\n",
              " 'virus': 0.2,\n",
              " 'negative': 0.2,\n",
              " 'consequences': 0.2,\n",
              " 'infected': 0.4,\n",
              " 'including': 0.2,\n",
              " 'development': 0.2,\n",
              " 'variety': 0.2,\n",
              " 'chronic': 0.2,\n",
              " 'disorders': 0.2,\n",
              " 'main': 0.2,\n",
              " 'symptoms': 0.2,\n",
              " 'loss': 0.2,\n",
              " 'smell': 0.2,\n",
              " 'taste': 0.2,\n",
              " 'fatigue': 0.2,\n",
              " 'pale': 0.2,\n",
              " 'skin': 0.2,\n",
              " 'sneezing': 0.2,\n",
              " 'coughing': 0.2,\n",
              " 'oxygen': 0.2,\n",
              " 'deficiency': 0.2,\n",
              " 'etc': 0.2,\n",
              " 'instructed': 0.2,\n",
              " 'segregate': 0.2,\n",
              " 'folks': 0.2,\n",
              " 'separated': 0.2,\n",
              " 'families': 0.4,\n",
              " 'locked': 0.2,\n",
              " 'room': 0.2,\n",
              " 'government': 0.4,\n",
              " 'prioritised': 0.2,\n",
              " 'safety': 0.6,\n",
              " 'frontline': 0.2,\n",
              " 'personnel': 0.2,\n",
              " 'superheroes': 0.2,\n",
              " 'working': 0.2,\n",
              " 'tirelessly': 0.2,\n",
              " 'ensure': 0.2,\n",
              " 'public': 0.2,\n",
              " 'sake': 0.2,\n",
              " 'patients': 0.2,\n",
              " 'close': 0.2,\n",
              " 'relatives': 0.2,\n",
              " 'many': 0.2,\n",
              " 'doctors': 0.2,\n",
              " 'stay': 0.2,\n",
              " 'away': 0.2,\n",
              " 'babies': 0.2,\n",
              " 'also': 0.2,\n",
              " 'taken': 0.2,\n",
              " 'significant': 0.2,\n",
              " 'steps': 0.2,\n",
              " 'implemented': 0.2,\n",
              " 'different': 0.2,\n",
              " 'protocols': 0.2,\n",
              " 'protection': 0.2}"
            ]
          },
          "metadata": {},
          "execution_count": 25
        }
      ]
    },
    {
      "cell_type": "code",
      "source": [
        "sentence_scores"
      ],
      "metadata": {
        "colab": {
          "base_uri": "https://localhost:8080/"
        },
        "id": "jmx6_ozzUy9X",
        "outputId": "751a3449-a7c9-4e16-d112-41f25dcf5784"
      },
      "execution_count": 26,
      "outputs": [
        {
          "output_type": "execute_result",
          "data": {
            "text/plain": [
              "{'the coronavirus was responsible for the covid-19 pandemic.': 1.2000000000000002,\n",
              " 'it is an infectious disease that has affected millions of people’s lives.': 3.1999999999999997,\n",
              " 'the pandemic has impacted people all across the world in diverse ways.': 3.0000000000000004,\n",
              " 'the pandemic has claimed the lives of millions of people.': 2.8,\n",
              " 'the virus had negative consequences for those who were infected, including the development of a variety of chronic disorders.': 1.9999999999999998,\n",
              " 'the main symptoms of this disease were loss of smell and taste, fatigue, pale skin, sneezing, coughing, oxygen deficiency, etc.': 3.2000000000000006,\n",
              " 'because covid-19 was an infectious disease, all those who were infected were instructed to segregate themselves from those who were not.': 1.7999999999999998,\n",
              " 'the folks who were affected were separated from their families and locked in a room.': 1.6,\n",
              " 'the government has prioritised people’s safety.': 2.2,\n",
              " 'the frontline personnel were like superheroes, working tirelessly to ensure the public’s safety.': 2.4,\n",
              " 'for the sake of their patients’ and close relatives’ safety, many doctors had to stay away from their families and babies.': 2.8,\n",
              " 'the government had also taken significant steps and implemented different protocols for the protection of people.': 3.0}"
            ]
          },
          "metadata": {},
          "execution_count": 26
        }
      ]
    },
    {
      "cell_type": "markdown",
      "source": [
        "Text Summarization"
      ],
      "metadata": {
        "id": "K3fVYePGWNDQ"
      }
    },
    {
      "cell_type": "code",
      "source": [
        "#top 10 sentences\n",
        "import heapq\n",
        "summary = heapq.nlargest(10, sentence_scores, key=sentence_scores.get)\n",
        "\n",
        "print(\" \".join(summary))"
      ],
      "metadata": {
        "colab": {
          "base_uri": "https://localhost:8080/"
        },
        "id": "vGdlmE1RU1od",
        "outputId": "555e9b23-b07a-4f2d-ef7c-4aa4dd2e6550"
      },
      "execution_count": 28,
      "outputs": [
        {
          "output_type": "stream",
          "name": "stdout",
          "text": [
            "the main symptoms of this disease were loss of smell and taste, fatigue, pale skin, sneezing, coughing, oxygen deficiency, etc. it is an infectious disease that has affected millions of people’s lives. the pandemic has impacted people all across the world in diverse ways. the government had also taken significant steps and implemented different protocols for the protection of people. the pandemic has claimed the lives of millions of people. for the sake of their patients’ and close relatives’ safety, many doctors had to stay away from their families and babies. the frontline personnel were like superheroes, working tirelessly to ensure the public’s safety. the government has prioritised people’s safety. the virus had negative consequences for those who were infected, including the development of a variety of chronic disorders. because covid-19 was an infectious disease, all those who were infected were instructed to segregate themselves from those who were not.\n"
          ]
        }
      ]
    },
    {
      "cell_type": "code",
      "source": [],
      "metadata": {
        "id": "86PBdt-EU317"
      },
      "execution_count": 27,
      "outputs": []
    }
  ]
}